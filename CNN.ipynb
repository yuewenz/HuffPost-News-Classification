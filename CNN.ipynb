{
 "cells": [
  {
   "cell_type": "markdown",
   "metadata": {
    "id": "iAkfSBUR6OB7"
   },
   "source": [
    "# Tokenizing"
   ]
  },
  {
   "cell_type": "code",
   "execution_count": 1,
   "metadata": {
    "ExecuteTime": {
     "end_time": "2021-04-25T04:43:45.919350Z",
     "start_time": "2021-04-25T04:43:43.610368Z"
    },
    "id": "16dV7oi0ggst"
   },
   "outputs": [],
   "source": [
    "import os\n",
    "os.chdir(r\"/Users/xinyuchen/OneDrive - Georgia Institute of Technology/Gatech/Courses/CS7641ML/Project/Preprocessing and Tokenizing/data\")\n",
    "\n",
    "import numpy as np\n",
    "import pandas as pd\n",
    "pd.options.display.max_columns = None\n",
    "pd.options.display.max_rows = None\n",
    "\n",
    "from sklearn.feature_extraction.text import CountVectorizer, TfidfVectorizer\n",
    "from tensorflow.keras.preprocessing.text import Tokenizer\n",
    "from tensorflow.keras.preprocessing.sequence import pad_sequences\n",
    "from tensorflow.keras.layers import Embedding\n",
    "from tensorflow.keras.initializers import Constant\n",
    "from sklearn.metrics import accuracy_score, confusion_matrix\n",
    "import matplotlib.pyplot as plt\n",
    "import seaborn as sns\n",
    "from jupyterthemes import jtplot\n",
    "jtplot.style(theme='oceans16')"
   ]
  },
  {
   "cell_type": "code",
   "execution_count": 2,
   "metadata": {
    "ExecuteTime": {
     "end_time": "2021-04-25T04:43:48.624175Z",
     "start_time": "2021-04-25T04:43:47.424752Z"
    },
    "id": "Gqd-EQ5B2mlG"
   },
   "outputs": [],
   "source": [
    "## read data\n",
    "train = pd.read_csv(\"news_classification_train.csv\")\n",
    "validation = pd.read_csv(\"news_classification_test.csv\")\n",
    "\n",
    "ticklabels = sorted(train[\"category\"].unique().tolist())"
   ]
  },
  {
   "cell_type": "code",
   "execution_count": 3,
   "metadata": {
    "ExecuteTime": {
     "end_time": "2021-04-25T04:44:02.040741Z",
     "start_time": "2021-04-25T04:44:02.037893Z"
    },
    "id": "Dv7jui0n4Ig4"
   },
   "outputs": [],
   "source": [
    "### tr_y is the label for training data, val_y_true is the true label for validation data\n",
    "tr_y = train[\"labels\"]\n",
    "val_y_true = validation[\"labels\"]"
   ]
  },
  {
   "cell_type": "code",
   "execution_count": 31,
   "metadata": {
    "ExecuteTime": {
     "end_time": "2021-04-25T16:33:32.149303Z",
     "start_time": "2021-04-25T16:33:28.511971Z"
    },
    "id": "AOazxRDt4hiK"
   },
   "outputs": [],
   "source": [
    "### Method 3: Use Word Embedding Method\n",
    "vocab_size = 25000\n",
    "max_length = 50\n",
    "trunc_type ='post'\n",
    "padding_type ='post'\n",
    "oov_tok = \"<OOV>\"\n",
    "\n",
    "# tokenize sentences\n",
    "tokenizer = Tokenizer(num_words = vocab_size, oov_token = oov_tok)\n",
    "tokenizer.fit_on_texts(train[\"head_short\"])\n",
    "word_index = tokenizer.word_index\n",
    "\n",
    "# convert train dataset to sequence and pad sequences\n",
    "tr_embed = tokenizer.texts_to_sequences(train[\"head_short\"])\n",
    "tr_embed = pad_sequences(tr_embed,maxlen= max_length,\n",
    "                         padding=padding_type, \n",
    "                         truncating=trunc_type)\n",
    "tr_y = np.asarray(train[\"labels\"])\n",
    "tr_y = pd.get_dummies(tr_y)\n",
    "\n",
    "# convert validation dataset to sequence and pad sequences\n",
    "val_embed = tokenizer.texts_to_sequences(validation[\"head_short\"])\n",
    "val_embed = pad_sequences(val_embed,\n",
    "                          maxlen = max_length,\n",
    "                          padding = padding_type, \n",
    "                          truncating=trunc_type)\n",
    "val_y = np.asarray(validation[\"labels\"])\n",
    "val_y = pd.get_dummies(val_y)"
   ]
  },
  {
   "cell_type": "code",
   "execution_count": 32,
   "metadata": {
    "ExecuteTime": {
     "end_time": "2021-04-25T16:34:22.091847Z",
     "start_time": "2021-04-25T16:34:18.043823Z"
    },
    "colab": {
     "base_uri": "https://localhost:8080/"
    },
    "id": "_X3TGYSA86rF",
    "outputId": "cf20b7b5-0480-4962-d10f-f2b6ea3becc2",
    "scrolled": true
   },
   "outputs": [
    {
     "name": "stdout",
     "output_type": "stream",
     "text": [
      "Converted 56752 words (29096 misses)\n"
     ]
    }
   ],
   "source": [
    "## create embedding matrix\n",
    "### !wget http://nlp.stanford.edu/data/glove.6B.zip \n",
    "### !unzip -q glove.6B.zip \n",
    "glove_file =  'glove.6B.100d.txt'\n",
    "\n",
    "num_tokens = len(word_index.items()) + 1\n",
    "embedding_dim = 100\n",
    "hits = 0\n",
    "misses = 0\n",
    "\n",
    "embeddings_index = {}\n",
    "with open(glove_file, encoding = \"utf-8\") as f:\n",
    "    for line in f:\n",
    "        word, coefs = line.split(maxsplit=1)\n",
    "        coefs = np.fromstring(coefs, \"f\", sep=\" \")\n",
    "        embeddings_index[word] = coefs\n",
    "\n",
    "embedding_matrix = np.zeros((num_tokens, embedding_dim))\n",
    "for word, i in word_index.items():\n",
    "    embedding_vector = embeddings_index.get(word)\n",
    "    if embedding_vector is not None:\n",
    "        embedding_matrix[i] = embedding_vector\n",
    "        hits += 1\n",
    "    else:\n",
    "        misses += 1\n",
    "print(\"Converted %d words (%d misses)\" % (hits, misses))\n",
    "\n",
    "embedding_layer = Embedding(len(word_index)+1,embedding_dim,\n",
    "                            embeddings_initializer = Constant(embedding_matrix),\n",
    "                            input_length = max_length,\n",
    "                            trainable = False)"
   ]
  },
  {
   "cell_type": "markdown",
   "metadata": {
    "id": "MkVL0BGHK4Wq"
   },
   "source": [
    "# CNN for Head_Short"
   ]
  },
  {
   "cell_type": "code",
   "execution_count": 5,
   "metadata": {
    "ExecuteTime": {
     "end_time": "2021-04-25T04:51:26.722834Z",
     "start_time": "2021-04-25T04:51:26.718890Z"
    },
    "id": "HxH4CcV5YJD7"
   },
   "outputs": [],
   "source": [
    "import tensorflow as tf\n",
    "from tensorflow.keras import layers, initializers, regularizers, backend, models, optimizers\n",
    "from numpy.random import seed\n",
    "\n",
    "seeds = 100\n",
    "seed(seeds)\n",
    "tf.random.set_seed(seeds)"
   ]
  },
  {
   "cell_type": "code",
   "execution_count": 7,
   "metadata": {
    "ExecuteTime": {
     "end_time": "2021-04-22T22:55:46.297072Z",
     "start_time": "2021-04-22T22:55:46.293693Z"
    },
    "colab": {
     "base_uri": "https://localhost:8080/"
    },
    "id": "zl4rQ3UYNbYk",
    "outputId": "642955a5-08fe-4372-962e-abe04a6309dd"
   },
   "outputs": [
    {
     "name": "stdout",
     "output_type": "stream",
     "text": [
      "(144912, 50)\n",
      "\n",
      "(85849, 100)\n"
     ]
    }
   ],
   "source": [
    "# Explore the data\n",
    "print(tr_embed.shape)\n",
    "\n",
    "print(embedding_matrix.shape)\n"
   ]
  },
  {
   "cell_type": "code",
   "execution_count": 6,
   "metadata": {
    "ExecuteTime": {
     "end_time": "2021-04-25T04:51:52.629286Z",
     "start_time": "2021-04-25T04:51:52.625909Z"
    }
   },
   "outputs": [],
   "source": [
    "# Creat F1 function\n",
    "\n",
    "def recall_m(y_true, y_pred):\n",
    "    true_positives = backend.sum(backend.round(\n",
    "        backend.clip(y_true * y_pred, 0, 1)))\n",
    "    possible_positives = backend.sum(backend.round(backend.clip(y_true, 0, 1)))\n",
    "    recall = true_positives / (possible_positives + backend.epsilon())\n",
    "\n",
    "    return recall\n",
    "\n",
    "\n",
    "def precision_m(y_true, y_pred):\n",
    "    true_positives = backend.sum(backend.round(\n",
    "        backend.clip(y_true * y_pred, 0, 1)))\n",
    "    predicted_positives = backend.sum(\n",
    "        backend.round(backend.clip(y_pred, 0, 1)))\n",
    "    precision = true_positives / (predicted_positives + backend.epsilon())\n",
    "\n",
    "    return precision\n",
    "\n",
    "\n",
    "def f1_m(y_true, y_pred):\n",
    "    precision = precision_m(y_true, y_pred)\n",
    "    recall = recall_m(y_true, y_pred)\n",
    "    f1 = 2*(precision*recall)/(precision+recall+backend.epsilon())\n",
    "\n",
    "    return f1"
   ]
  },
  {
   "cell_type": "code",
   "execution_count": 86,
   "metadata": {
    "ExecuteTime": {
     "end_time": "2021-04-26T00:38:16.634739Z",
     "start_time": "2021-04-26T00:38:16.505929Z"
    },
    "scrolled": true
   },
   "outputs": [
    {
     "name": "stdout",
     "output_type": "stream",
     "text": [
      "Model: \"model_28\"\n",
      "__________________________________________________________________________________________________\n",
      "Layer (type)                    Output Shape         Param #     Connected to                     \n",
      "==================================================================================================\n",
      "input_31 (InputLayer)           [(None, 50)]         0                                            \n",
      "__________________________________________________________________________________________________\n",
      "embedding_4 (Embedding)         (None, 50, 100)      8584900     input_31[0][0]                   \n",
      "__________________________________________________________________________________________________\n",
      "conv1d_84 (Conv1D)              (None, 50, 128)      25728       embedding_4[23][0]               \n",
      "__________________________________________________________________________________________________\n",
      "conv1d_85 (Conv1D)              (None, 50, 128)      38528       embedding_4[23][0]               \n",
      "__________________________________________________________________________________________________\n",
      "conv1d_86 (Conv1D)              (None, 50, 128)      64128       embedding_4[23][0]               \n",
      "__________________________________________________________________________________________________\n",
      "max_pooling1d_84 (MaxPooling1D) (None, 50, 128)      0           conv1d_84[0][0]                  \n",
      "__________________________________________________________________________________________________\n",
      "max_pooling1d_85 (MaxPooling1D) (None, 50, 128)      0           conv1d_85[0][0]                  \n",
      "__________________________________________________________________________________________________\n",
      "max_pooling1d_86 (MaxPooling1D) (None, 50, 128)      0           conv1d_86[0][0]                  \n",
      "__________________________________________________________________________________________________\n",
      "gaussian_dropout_84 (GaussianDr (None, 50, 128)      0           max_pooling1d_84[0][0]           \n",
      "__________________________________________________________________________________________________\n",
      "gaussian_dropout_85 (GaussianDr (None, 50, 128)      0           max_pooling1d_85[0][0]           \n",
      "__________________________________________________________________________________________________\n",
      "gaussian_dropout_86 (GaussianDr (None, 50, 128)      0           max_pooling1d_86[0][0]           \n",
      "__________________________________________________________________________________________________\n",
      "concatenate_28 (Concatenate)    (None, 50, 384)      0           gaussian_dropout_84[0][0]        \n",
      "                                                                 gaussian_dropout_85[0][0]        \n",
      "                                                                 gaussian_dropout_86[0][0]        \n",
      "__________________________________________________________________________________________________\n",
      "flatten_28 (Flatten)            (None, 19200)        0           concatenate_28[0][0]             \n",
      "__________________________________________________________________________________________________\n",
      "dropout_28 (Dropout)            (None, 19200)        0           flatten_28[0][0]                 \n",
      "__________________________________________________________________________________________________\n",
      "dense_56 (Dense)                (None, 128)          2457728     dropout_28[0][0]                 \n",
      "__________________________________________________________________________________________________\n",
      "dense_57 (Dense)                (None, 28)           3612        dense_56[0][0]                   \n",
      "==================================================================================================\n",
      "Total params: 11,174,624\n",
      "Trainable params: 2,589,724\n",
      "Non-trainable params: 8,584,900\n",
      "__________________________________________________________________________________________________\n",
      "None\n"
     ]
    }
   ],
   "source": [
    "# TextCNN\n",
    "\n",
    "inp = layers.Input(shape=(max_length,), dtype='int32')\n",
    "embedding = embedding_layer(inp)\n",
    "stacks = []\n",
    "for kernel_size in [2, 3, 5]:\n",
    "    conv = layers.Conv1D(128, kernel_size, padding='same', activation='relu', strides=1,\n",
    "                         kernel_initializer=initializers.he_normal(seed=seeds))(embedding)\n",
    "    pool = layers.MaxPooling1D(pool_size=2, strides=1, padding='same')(conv)\n",
    "    noise = layers.GaussianDropout(0.5)(pool)\n",
    "    stacks.append(noise)\n",
    "\n",
    "merged = layers.Concatenate()(stacks)\n",
    "flatten = layers.Flatten()(merged)\n",
    "drop = layers.Dropout(0.3)(flatten)\n",
    "dense = layers.Dense(128, activation='relu')(drop)\n",
    "out = layers.Dense(tr_y.shape[1], activation='softmax')(dense)\n",
    "\n",
    "TextCNN = models.Model(inputs=inp, outputs=out)\n",
    "adam=optimizers.Adam(learning_rate=1)\n",
    "TextCNN.compile(loss='mse',\n",
    "                optimizer='adam',\n",
    "                metrics=['accuracy', f1_m])\n",
    "\n",
    "# Model summary\n",
    "print(TextCNN.summary())"
   ]
  },
  {
   "cell_type": "code",
   "execution_count": null,
   "metadata": {
    "ExecuteTime": {
     "end_time": "2021-04-25T17:52:27.045632Z",
     "start_time": "2021-04-25T17:52:22.496Z"
    },
    "colab": {
     "base_uri": "https://localhost:8080/"
    },
    "id": "yCnTHb8OK8J9",
    "outputId": "c490b6dc-c62a-4804-b68a-fbf4e44fc761",
    "scrolled": true
   },
   "outputs": [],
   "source": [
    "# Model initialization\n",
    "model = tf.keras.Sequential([layers.Input(shape=(max_length), dtype='int32'),\n",
    "                             embedding_layer,\n",
    "                             layers.Dropout(0.5),\n",
    "                             layers.Conv1D(128, 3, padding='same', activation='relu',\n",
    "                                           kernel_initializer=initializers.glorot_normal(seed=seeds)),\n",
    "                             layers.Conv1D(128, 5, padding='same', activation='relu',\n",
    "                                           kernel_initializer=initializers.glorot_normal(seed=seeds)),\n",
    "                             layers.MaxPooling1D(\n",
    "                                 pool_size=1, strides=None, padding='same'),\n",
    "                             layers.Conv1D(128, 5, padding='same', activation='relu',\n",
    "                                           kernel_initializer=initializers.glorot_normal(seed=seeds)),\n",
    "                             layers.Conv1D(128, 5, padding='same', activation='relu',\n",
    "                                           kernel_initializer=initializers.glorot_normal(seed=seeds)),\n",
    "                             layers.MaxPooling1D(\n",
    "                                 pool_size=1, strides=None, padding='same'),\n",
    "                             layers.Flatten(),\n",
    "                             layers.Dense(128, activation='relu'),\n",
    "                             layers.Dense(28, activation='softmax')\n",
    "                             ])\n",
    "\n",
    "# Compile model\n",
    "model.compile(loss='mse',\n",
    "              optimizer='adam',\n",
    "              metrics=['accuracy', f1_m])\n",
    "\n",
    "# Model summary\n",
    "print(model.summary())"
   ]
  },
  {
   "cell_type": "code",
   "execution_count": 87,
   "metadata": {
    "ExecuteTime": {
     "end_time": "2021-04-26T00:57:46.582976Z",
     "start_time": "2021-04-26T00:38:36.341216Z"
    },
    "colab": {
     "base_uri": "https://localhost:8080/",
     "height": 681
    },
    "id": "INIjInUaYe_g",
    "outputId": "f3b05d14-f109-4f7c-b93e-8e5634cde2b3",
    "scrolled": false
   },
   "outputs": [
    {
     "name": "stdout",
     "output_type": "stream",
     "text": [
      "Epoch 1/30\n",
      "793/793 - 40s - loss: 0.0268 - accuracy: 0.4032 - f1_m: 0.3558 - val_loss: 0.0225 - val_accuracy: 0.5208 - val_f1_m: 0.4984\n",
      "Epoch 2/30\n",
      "793/793 - 37s - loss: 0.0213 - accuracy: 0.5570 - f1_m: 0.5385 - val_loss: 0.0195 - val_accuracy: 0.6039 - val_f1_m: 0.5798\n",
      "Epoch 3/30\n",
      "793/793 - 38s - loss: 0.0193 - accuracy: 0.6048 - f1_m: 0.5925 - val_loss: 0.0191 - val_accuracy: 0.6140 - val_f1_m: 0.5971\n",
      "Epoch 4/30\n",
      "793/793 - 39s - loss: 0.0186 - accuracy: 0.6250 - f1_m: 0.6162 - val_loss: 0.0189 - val_accuracy: 0.6209 - val_f1_m: 0.6087\n",
      "Epoch 5/30\n",
      "793/793 - 40s - loss: 0.0180 - accuracy: 0.6380 - f1_m: 0.6325 - val_loss: 0.0188 - val_accuracy: 0.6211 - val_f1_m: 0.6109\n",
      "Epoch 6/30\n",
      "793/793 - 40s - loss: 0.0176 - accuracy: 0.6488 - f1_m: 0.6457 - val_loss: 0.0187 - val_accuracy: 0.6247 - val_f1_m: 0.6144\n",
      "Epoch 7/30\n",
      "793/793 - 39s - loss: 0.0172 - accuracy: 0.6568 - f1_m: 0.6560 - val_loss: 0.0188 - val_accuracy: 0.6242 - val_f1_m: 0.6167\n",
      "Epoch 8/30\n",
      "793/793 - 38s - loss: 0.0169 - accuracy: 0.6625 - f1_m: 0.6627 - val_loss: 0.0188 - val_accuracy: 0.6253 - val_f1_m: 0.6197\n",
      "Epoch 9/30\n",
      "793/793 - 38s - loss: 0.0167 - accuracy: 0.6672 - f1_m: 0.6683 - val_loss: 0.0187 - val_accuracy: 0.6288 - val_f1_m: 0.6229\n",
      "Epoch 10/30\n",
      "793/793 - 38s - loss: 0.0165 - accuracy: 0.6718 - f1_m: 0.6731 - val_loss: 0.0188 - val_accuracy: 0.6275 - val_f1_m: 0.6237\n",
      "Epoch 11/30\n",
      "793/793 - 39s - loss: 0.0163 - accuracy: 0.6758 - f1_m: 0.6794 - val_loss: 0.0188 - val_accuracy: 0.6294 - val_f1_m: 0.6252\n",
      "Epoch 12/30\n",
      "793/793 - 36s - loss: 0.0161 - accuracy: 0.6798 - f1_m: 0.6832 - val_loss: 0.0187 - val_accuracy: 0.6304 - val_f1_m: 0.6307\n",
      "Epoch 13/30\n",
      "793/793 - 43s - loss: 0.0160 - accuracy: 0.6831 - f1_m: 0.6867 - val_loss: 0.0187 - val_accuracy: 0.6298 - val_f1_m: 0.6278\n",
      "Epoch 14/30\n",
      "793/793 - 38s - loss: 0.0159 - accuracy: 0.6847 - f1_m: 0.6884 - val_loss: 0.0186 - val_accuracy: 0.6316 - val_f1_m: 0.6298\n",
      "Epoch 15/30\n",
      "793/793 - 39s - loss: 0.0158 - accuracy: 0.6882 - f1_m: 0.6926 - val_loss: 0.0186 - val_accuracy: 0.6338 - val_f1_m: 0.6343\n",
      "Epoch 16/30\n",
      "793/793 - 38s - loss: 0.0157 - accuracy: 0.6895 - f1_m: 0.6953 - val_loss: 0.0187 - val_accuracy: 0.6327 - val_f1_m: 0.6310\n",
      "Epoch 17/30\n",
      "793/793 - 38s - loss: 0.0156 - accuracy: 0.6915 - f1_m: 0.6974 - val_loss: 0.0187 - val_accuracy: 0.6317 - val_f1_m: 0.6300\n",
      "Epoch 18/30\n",
      "793/793 - 38s - loss: 0.0155 - accuracy: 0.6944 - f1_m: 0.7005 - val_loss: 0.0188 - val_accuracy: 0.6312 - val_f1_m: 0.6314\n",
      "Epoch 19/30\n",
      "793/793 - 38s - loss: 0.0154 - accuracy: 0.6971 - f1_m: 0.7020 - val_loss: 0.0187 - val_accuracy: 0.6350 - val_f1_m: 0.6353\n",
      "Epoch 20/30\n",
      "793/793 - 37s - loss: 0.0153 - accuracy: 0.6977 - f1_m: 0.7050 - val_loss: 0.0190 - val_accuracy: 0.6278 - val_f1_m: 0.6273\n",
      "Epoch 21/30\n",
      "793/793 - 38s - loss: 0.0153 - accuracy: 0.6991 - f1_m: 0.7061 - val_loss: 0.0189 - val_accuracy: 0.6309 - val_f1_m: 0.6336\n",
      "Epoch 22/30\n",
      "793/793 - 36s - loss: 0.0152 - accuracy: 0.7017 - f1_m: 0.7087 - val_loss: 0.0188 - val_accuracy: 0.6304 - val_f1_m: 0.6327\n",
      "Epoch 23/30\n",
      "793/793 - 37s - loss: 0.0151 - accuracy: 0.7036 - f1_m: 0.7107 - val_loss: 0.0188 - val_accuracy: 0.6336 - val_f1_m: 0.6346\n",
      "Epoch 24/30\n",
      "793/793 - 37s - loss: 0.0150 - accuracy: 0.7054 - f1_m: 0.7128 - val_loss: 0.0189 - val_accuracy: 0.6315 - val_f1_m: 0.6323\n",
      "Epoch 25/30\n",
      "793/793 - 38s - loss: 0.0150 - accuracy: 0.7062 - f1_m: 0.7128 - val_loss: 0.0189 - val_accuracy: 0.6338 - val_f1_m: 0.6360\n",
      "Epoch 26/30\n",
      "793/793 - 38s - loss: 0.0149 - accuracy: 0.7071 - f1_m: 0.7154 - val_loss: 0.0190 - val_accuracy: 0.6285 - val_f1_m: 0.6303\n",
      "Epoch 27/30\n",
      "793/793 - 38s - loss: 0.0149 - accuracy: 0.7095 - f1_m: 0.7165 - val_loss: 0.0189 - val_accuracy: 0.6334 - val_f1_m: 0.6345\n",
      "Epoch 28/30\n",
      "793/793 - 38s - loss: 0.0148 - accuracy: 0.7101 - f1_m: 0.7177 - val_loss: 0.0189 - val_accuracy: 0.6318 - val_f1_m: 0.6348\n",
      "Epoch 29/30\n",
      "793/793 - 37s - loss: 0.0148 - accuracy: 0.7094 - f1_m: 0.7176 - val_loss: 0.0191 - val_accuracy: 0.6288 - val_f1_m: 0.6338\n",
      "Epoch 30/30\n",
      "793/793 - 38s - loss: 0.0148 - accuracy: 0.7109 - f1_m: 0.7199 - val_loss: 0.0190 - val_accuracy: 0.6300 - val_f1_m: 0.6343\n"
     ]
    }
   ],
   "source": [
    "# Fit model\n",
    "num_epochs = 30\n",
    "history = TextCNN.fit(tr_embed, tr_y,\n",
    "                    batch_size = 128,\n",
    "                    epochs = num_epochs, verbose = 2, shuffle = False,\n",
    "                    validation_split = 0.3)"
   ]
  },
  {
   "cell_type": "code",
   "execution_count": 68,
   "metadata": {
    "ExecuteTime": {
     "end_time": "2021-04-25T20:33:22.785354Z",
     "start_time": "2021-04-25T20:33:17.892891Z"
    }
   },
   "outputs": [
    {
     "name": "stdout",
     "output_type": "stream",
     "text": [
      "1133/1133 [==============================] - 5s 4ms/step\n"
     ]
    }
   ],
   "source": [
    "# Predict values for the test set\n",
    "\n",
    "pred = TextCNN.predict(val_embed, verbose = 1)"
   ]
  },
  {
   "cell_type": "code",
   "execution_count": 69,
   "metadata": {
    "ExecuteTime": {
     "end_time": "2021-04-25T20:33:37.841073Z",
     "start_time": "2021-04-25T20:33:31.709746Z"
    }
   },
   "outputs": [
    {
     "name": "stdout",
     "output_type": "stream",
     "text": [
      "1133/1133 [==============================] - 5s 4ms/step - loss: 0.0192 - accuracy: 0.6301 - f1_m: 0.6330\n"
     ]
    },
    {
     "data": {
      "text/plain": [
       "[0.019153259694576263, 0.6301203370094299, 0.6330426335334778]"
      ]
     },
     "execution_count": 69,
     "metadata": {},
     "output_type": "execute_result"
    }
   ],
   "source": [
    "# Evaluate the model in test set\n",
    "\n",
    "TextCNN.evaluate(val_embed, val_y)"
   ]
  },
  {
   "cell_type": "markdown",
   "metadata": {},
   "source": [
    "# CNN for Head"
   ]
  },
  {
   "cell_type": "code",
   "execution_count": 97,
   "metadata": {
    "ExecuteTime": {
     "end_time": "2021-04-26T03:00:49.001558Z",
     "start_time": "2021-04-26T03:00:46.285328Z"
    }
   },
   "outputs": [],
   "source": [
    "### Method 3: Use Word Embedding Method\n",
    "vocab_size = 25000\n",
    "max_length = 50\n",
    "trunc_type ='post'\n",
    "padding_type ='post'\n",
    "oov_tok = \"<OOV>\"\n",
    "\n",
    "Train_Headline = train['headline_new'].astype(\"str\")\n",
    "Test_Headline = validation['headline_new'].astype(\"str\")\n",
    "\n",
    "# tokenize sentences\n",
    "tokenizer = Tokenizer(num_words = vocab_size, oov_token = oov_tok)\n",
    "tokenizer.fit_on_texts(Train_Headline)\n",
    "word_index = tokenizer.word_index\n",
    "\n",
    "# convert train dataset to sequence and pad sequences\n",
    "tr_embed = tokenizer.texts_to_sequences(Train_Headline)\n",
    "tr_embed = pad_sequences(tr_embed,maxlen= max_length,\n",
    "                         padding=padding_type, \n",
    "                         truncating=trunc_type)\n",
    "tr_y = np.asarray(train[\"labels\"])\n",
    "tr_y = pd.get_dummies(tr_y)\n",
    "\n",
    "# convert validation dataset to sequence and pad sequences\n",
    "val_embed = tokenizer.texts_to_sequences(Test_Headline)\n",
    "val_embed = pad_sequences(val_embed,\n",
    "                          maxlen = max_length,\n",
    "                          padding = padding_type, \n",
    "                          truncating=trunc_type)\n",
    "val_y = np.asarray(validation[\"labels\"])\n",
    "val_y = pd.get_dummies(val_y)"
   ]
  },
  {
   "cell_type": "code",
   "execution_count": 98,
   "metadata": {
    "ExecuteTime": {
     "end_time": "2021-04-26T03:01:09.732961Z",
     "start_time": "2021-04-26T03:01:05.184042Z"
    }
   },
   "outputs": [
    {
     "name": "stdout",
     "output_type": "stream",
     "text": [
      "Converted 37554 words (12271 misses)\n"
     ]
    }
   ],
   "source": [
    "## create embedding matrix\n",
    "### !wget http://nlp.stanford.edu/data/glove.6B.zip \n",
    "### !unzip -q glove.6B.zip \n",
    "glove_file =  'glove.6B.100d.txt'\n",
    "\n",
    "num_tokens = len(word_index.items()) + 1\n",
    "embedding_dim = 100\n",
    "hits = 0\n",
    "misses = 0\n",
    "\n",
    "embeddings_index = {}\n",
    "with open(glove_file, encoding = \"utf-8\") as f:\n",
    "    for line in f:\n",
    "        word, coefs = line.split(maxsplit=1)\n",
    "        coefs = np.fromstring(coefs, \"f\", sep=\" \")\n",
    "        embeddings_index[word] = coefs\n",
    "\n",
    "embedding_matrix = np.zeros((num_tokens, embedding_dim))\n",
    "for word, i in word_index.items():\n",
    "    embedding_vector = embeddings_index.get(word)\n",
    "    if embedding_vector is not None:\n",
    "        embedding_matrix[i] = embedding_vector\n",
    "        hits += 1\n",
    "    else:\n",
    "        misses += 1\n",
    "print(\"Converted %d words (%d misses)\" % (hits, misses))\n",
    "\n",
    "embedding_layer = Embedding(len(word_index)+1,embedding_dim,\n",
    "                            embeddings_initializer = Constant(embedding_matrix),\n",
    "                            input_length = max_length,\n",
    "                            trainable = False)"
   ]
  },
  {
   "cell_type": "code",
   "execution_count": 99,
   "metadata": {
    "ExecuteTime": {
     "end_time": "2021-04-26T03:32:53.850603Z",
     "start_time": "2021-04-26T03:01:25.713442Z"
    }
   },
   "outputs": [
    {
     "name": "stdout",
     "output_type": "stream",
     "text": [
      "Epoch 1/50\n",
      "793/793 - 40s - loss: 0.0323 - accuracy: 0.1873 - f1_m: 0.0799 - val_loss: 0.0311 - val_accuracy: 0.2367 - val_f1_m: 0.1089\n",
      "Epoch 2/50\n",
      "793/793 - 37s - loss: 0.0312 - accuracy: 0.2346 - f1_m: 0.1289 - val_loss: 0.0305 - val_accuracy: 0.2678 - val_f1_m: 0.1388\n",
      "Epoch 3/50\n",
      "793/793 - 38s - loss: 0.0305 - accuracy: 0.2687 - f1_m: 0.1639 - val_loss: 0.0295 - val_accuracy: 0.3026 - val_f1_m: 0.1870\n",
      "Epoch 4/50\n",
      "793/793 - 37s - loss: 0.0296 - accuracy: 0.3025 - f1_m: 0.2166 - val_loss: 0.0288 - val_accuracy: 0.3219 - val_f1_m: 0.2333\n",
      "Epoch 5/50\n",
      "793/793 - 37s - loss: 0.0290 - accuracy: 0.3212 - f1_m: 0.2459 - val_loss: 0.0284 - val_accuracy: 0.3420 - val_f1_m: 0.2412\n",
      "Epoch 6/50\n",
      "793/793 - 36s - loss: 0.0285 - accuracy: 0.3364 - f1_m: 0.2724 - val_loss: 0.0280 - val_accuracy: 0.3523 - val_f1_m: 0.2635\n",
      "Epoch 7/50\n",
      "793/793 - 37s - loss: 0.0281 - accuracy: 0.3450 - f1_m: 0.2909 - val_loss: 0.0277 - val_accuracy: 0.3555 - val_f1_m: 0.2787\n",
      "Epoch 8/50\n",
      "793/793 - 37s - loss: 0.0278 - accuracy: 0.3535 - f1_m: 0.3031 - val_loss: 0.0275 - val_accuracy: 0.3639 - val_f1_m: 0.2912\n",
      "Epoch 9/50\n",
      "793/793 - 38s - loss: 0.0275 - accuracy: 0.3616 - f1_m: 0.3181 - val_loss: 0.0273 - val_accuracy: 0.3663 - val_f1_m: 0.3019\n",
      "Epoch 10/50\n",
      "793/793 - 37s - loss: 0.0273 - accuracy: 0.3653 - f1_m: 0.3258 - val_loss: 0.0272 - val_accuracy: 0.3713 - val_f1_m: 0.2996\n",
      "Epoch 11/50\n",
      "793/793 - 37s - loss: 0.0271 - accuracy: 0.3716 - f1_m: 0.3355 - val_loss: 0.0271 - val_accuracy: 0.3734 - val_f1_m: 0.3030\n",
      "Epoch 12/50\n",
      "793/793 - 37s - loss: 0.0270 - accuracy: 0.3745 - f1_m: 0.3425 - val_loss: 0.0270 - val_accuracy: 0.3765 - val_f1_m: 0.3171\n",
      "Epoch 13/50\n",
      "793/793 - 37s - loss: 0.0268 - accuracy: 0.3799 - f1_m: 0.3487 - val_loss: 0.0270 - val_accuracy: 0.3782 - val_f1_m: 0.3091\n",
      "Epoch 14/50\n",
      "793/793 - 37s - loss: 0.0267 - accuracy: 0.3831 - f1_m: 0.3547 - val_loss: 0.0268 - val_accuracy: 0.3828 - val_f1_m: 0.3202\n",
      "Epoch 15/50\n",
      "793/793 - 36s - loss: 0.0265 - accuracy: 0.3869 - f1_m: 0.3635 - val_loss: 0.0267 - val_accuracy: 0.3861 - val_f1_m: 0.3257\n",
      "Epoch 16/50\n",
      "793/793 - 36s - loss: 0.0264 - accuracy: 0.3905 - f1_m: 0.3674 - val_loss: 0.0267 - val_accuracy: 0.3843 - val_f1_m: 0.3201\n",
      "Epoch 17/50\n",
      "793/793 - 36s - loss: 0.0263 - accuracy: 0.3937 - f1_m: 0.3713 - val_loss: 0.0266 - val_accuracy: 0.3896 - val_f1_m: 0.3350\n",
      "Epoch 18/50\n",
      "793/793 - 37s - loss: 0.0262 - accuracy: 0.3958 - f1_m: 0.3769 - val_loss: 0.0265 - val_accuracy: 0.3907 - val_f1_m: 0.3338\n",
      "Epoch 19/50\n",
      "793/793 - 40s - loss: 0.0261 - accuracy: 0.3986 - f1_m: 0.3801 - val_loss: 0.0265 - val_accuracy: 0.3921 - val_f1_m: 0.3404\n",
      "Epoch 20/50\n",
      "793/793 - 39s - loss: 0.0260 - accuracy: 0.4032 - f1_m: 0.3854 - val_loss: 0.0264 - val_accuracy: 0.3956 - val_f1_m: 0.3403\n",
      "Epoch 21/50\n",
      "793/793 - 37s - loss: 0.0259 - accuracy: 0.4046 - f1_m: 0.3900 - val_loss: 0.0263 - val_accuracy: 0.3970 - val_f1_m: 0.3430\n",
      "Epoch 22/50\n",
      "793/793 - 38s - loss: 0.0258 - accuracy: 0.4057 - f1_m: 0.3941 - val_loss: 0.0262 - val_accuracy: 0.3980 - val_f1_m: 0.3564\n",
      "Epoch 23/50\n",
      "793/793 - 38s - loss: 0.0257 - accuracy: 0.4092 - f1_m: 0.3990 - val_loss: 0.0262 - val_accuracy: 0.3981 - val_f1_m: 0.3481\n",
      "Epoch 24/50\n",
      "793/793 - 38s - loss: 0.0256 - accuracy: 0.4119 - f1_m: 0.4004 - val_loss: 0.0261 - val_accuracy: 0.4027 - val_f1_m: 0.3566\n",
      "Epoch 25/50\n",
      "793/793 - 37s - loss: 0.0255 - accuracy: 0.4171 - f1_m: 0.4068 - val_loss: 0.0262 - val_accuracy: 0.4028 - val_f1_m: 0.3511\n",
      "Epoch 26/50\n",
      "793/793 - 39s - loss: 0.0254 - accuracy: 0.4204 - f1_m: 0.4087 - val_loss: 0.0261 - val_accuracy: 0.4059 - val_f1_m: 0.3592\n",
      "Epoch 27/50\n",
      "793/793 - 38s - loss: 0.0253 - accuracy: 0.4195 - f1_m: 0.4095 - val_loss: 0.0260 - val_accuracy: 0.4080 - val_f1_m: 0.3607\n",
      "Epoch 28/50\n",
      "793/793 - 39s - loss: 0.0253 - accuracy: 0.4217 - f1_m: 0.4136 - val_loss: 0.0261 - val_accuracy: 0.4065 - val_f1_m: 0.3507\n",
      "Epoch 29/50\n",
      "793/793 - 37s - loss: 0.0252 - accuracy: 0.4231 - f1_m: 0.4161 - val_loss: 0.0259 - val_accuracy: 0.4090 - val_f1_m: 0.3685\n",
      "Epoch 30/50\n",
      "793/793 - 40s - loss: 0.0252 - accuracy: 0.4254 - f1_m: 0.4182 - val_loss: 0.0260 - val_accuracy: 0.4096 - val_f1_m: 0.3625\n",
      "Epoch 31/50\n",
      "793/793 - 38s - loss: 0.0251 - accuracy: 0.4250 - f1_m: 0.4195 - val_loss: 0.0260 - val_accuracy: 0.4088 - val_f1_m: 0.3590\n",
      "Epoch 32/50\n",
      "793/793 - 39s - loss: 0.0251 - accuracy: 0.4269 - f1_m: 0.4208 - val_loss: 0.0258 - val_accuracy: 0.4125 - val_f1_m: 0.3722\n",
      "Epoch 33/50\n",
      "793/793 - 38s - loss: 0.0250 - accuracy: 0.4292 - f1_m: 0.4267 - val_loss: 0.0259 - val_accuracy: 0.4099 - val_f1_m: 0.3716\n",
      "Epoch 34/50\n",
      "793/793 - 37s - loss: 0.0250 - accuracy: 0.4296 - f1_m: 0.4242 - val_loss: 0.0258 - val_accuracy: 0.4133 - val_f1_m: 0.3799\n",
      "Epoch 35/50\n",
      "793/793 - 36s - loss: 0.0250 - accuracy: 0.4299 - f1_m: 0.4254 - val_loss: 0.0258 - val_accuracy: 0.4135 - val_f1_m: 0.3701\n",
      "Epoch 36/50\n",
      "793/793 - 37s - loss: 0.0249 - accuracy: 0.4303 - f1_m: 0.4285 - val_loss: 0.0259 - val_accuracy: 0.4121 - val_f1_m: 0.3633\n",
      "Epoch 37/50\n",
      "793/793 - 39s - loss: 0.0249 - accuracy: 0.4316 - f1_m: 0.4290 - val_loss: 0.0258 - val_accuracy: 0.4105 - val_f1_m: 0.3723\n",
      "Epoch 38/50\n",
      "793/793 - 38s - loss: 0.0248 - accuracy: 0.4327 - f1_m: 0.4321 - val_loss: 0.0258 - val_accuracy: 0.4122 - val_f1_m: 0.3717\n",
      "Epoch 39/50\n",
      "793/793 - 38s - loss: 0.0248 - accuracy: 0.4330 - f1_m: 0.4331 - val_loss: 0.0257 - val_accuracy: 0.4137 - val_f1_m: 0.3762\n",
      "Epoch 40/50\n",
      "793/793 - 38s - loss: 0.0248 - accuracy: 0.4338 - f1_m: 0.4343 - val_loss: 0.0257 - val_accuracy: 0.4141 - val_f1_m: 0.3765\n",
      "Epoch 41/50\n",
      "793/793 - 37s - loss: 0.0247 - accuracy: 0.4352 - f1_m: 0.4357 - val_loss: 0.0257 - val_accuracy: 0.4157 - val_f1_m: 0.3707\n",
      "Epoch 42/50\n",
      "793/793 - 39s - loss: 0.0247 - accuracy: 0.4364 - f1_m: 0.4353 - val_loss: 0.0258 - val_accuracy: 0.4139 - val_f1_m: 0.3747\n",
      "Epoch 43/50\n",
      "793/793 - 37s - loss: 0.0247 - accuracy: 0.4373 - f1_m: 0.4382 - val_loss: 0.0257 - val_accuracy: 0.4146 - val_f1_m: 0.3776\n",
      "Epoch 44/50\n",
      "793/793 - 37s - loss: 0.0246 - accuracy: 0.4381 - f1_m: 0.4388 - val_loss: 0.0258 - val_accuracy: 0.4136 - val_f1_m: 0.3752\n",
      "Epoch 45/50\n",
      "793/793 - 37s - loss: 0.0246 - accuracy: 0.4400 - f1_m: 0.4402 - val_loss: 0.0257 - val_accuracy: 0.4156 - val_f1_m: 0.3784\n",
      "Epoch 46/50\n",
      "793/793 - 39s - loss: 0.0246 - accuracy: 0.4383 - f1_m: 0.4417 - val_loss: 0.0257 - val_accuracy: 0.4141 - val_f1_m: 0.3797\n",
      "Epoch 47/50\n",
      "793/793 - 38s - loss: 0.0246 - accuracy: 0.4377 - f1_m: 0.4408 - val_loss: 0.0258 - val_accuracy: 0.4123 - val_f1_m: 0.3702\n",
      "Epoch 48/50\n",
      "793/793 - 38s - loss: 0.0245 - accuracy: 0.4406 - f1_m: 0.4437 - val_loss: 0.0257 - val_accuracy: 0.4147 - val_f1_m: 0.3738\n",
      "Epoch 49/50\n",
      "793/793 - 38s - loss: 0.0245 - accuracy: 0.4397 - f1_m: 0.4416 - val_loss: 0.0257 - val_accuracy: 0.4158 - val_f1_m: 0.3823\n",
      "Epoch 50/50\n",
      "793/793 - 38s - loss: 0.0245 - accuracy: 0.4414 - f1_m: 0.4455 - val_loss: 0.0256 - val_accuracy: 0.4165 - val_f1_m: 0.3880\n"
     ]
    }
   ],
   "source": [
    "# Fit model\n",
    "num_epochs = 50\n",
    "history = TextCNN.fit(tr_embed, tr_y,\n",
    "                    batch_size = 128,\n",
    "                    epochs = num_epochs, verbose = 2, shuffle = False,\n",
    "                    validation_split = 0.3)"
   ]
  },
  {
   "cell_type": "markdown",
   "metadata": {},
   "source": [
    "# CNN for Short"
   ]
  },
  {
   "cell_type": "code",
   "execution_count": 91,
   "metadata": {
    "ExecuteTime": {
     "end_time": "2021-04-26T01:35:08.032154Z",
     "start_time": "2021-04-26T01:35:04.621428Z"
    }
   },
   "outputs": [],
   "source": [
    "### Method 3: Use Word Embedding Method\n",
    "vocab_size = 25000\n",
    "max_length = 50\n",
    "trunc_type ='post'\n",
    "padding_type ='post'\n",
    "oov_tok = \"<OOV>\"\n",
    "\n",
    "Train_Headline = train['short_description_new'].astype(\"str\")\n",
    "Test_Headline = validation['short_description_new'].astype(\"str\")\n",
    "\n",
    "# tokenize sentences\n",
    "tokenizer = Tokenizer(num_words = vocab_size, oov_token = oov_tok)\n",
    "tokenizer.fit_on_texts(Train_Headline)\n",
    "word_index = tokenizer.word_index\n",
    "\n",
    "# convert train dataset to sequence and pad sequences\n",
    "tr_embed = tokenizer.texts_to_sequences(Train_Headline)\n",
    "tr_embed = pad_sequences(tr_embed,maxlen= max_length,\n",
    "                         padding=padding_type, \n",
    "                         truncating=trunc_type)\n",
    "tr_y = np.asarray(train[\"labels\"])\n",
    "tr_y = pd.get_dummies(tr_y)\n",
    "\n",
    "# convert validation dataset to sequence and pad sequences\n",
    "val_embed = tokenizer.texts_to_sequences(Test_Headline)\n",
    "val_embed = pad_sequences(val_embed,\n",
    "                          maxlen = max_length,\n",
    "                          padding = padding_type, \n",
    "                          truncating=trunc_type)\n",
    "val_y = np.asarray(validation[\"labels\"])\n",
    "val_y = pd.get_dummies(val_y)"
   ]
  },
  {
   "cell_type": "code",
   "execution_count": 92,
   "metadata": {
    "ExecuteTime": {
     "end_time": "2021-04-26T01:40:25.993357Z",
     "start_time": "2021-04-26T01:40:21.727678Z"
    }
   },
   "outputs": [
    {
     "name": "stdout",
     "output_type": "stream",
     "text": [
      "Converted 50473 words (21081 misses)\n"
     ]
    }
   ],
   "source": [
    "## create embedding matrix\n",
    "### !wget http://nlp.stanford.edu/data/glove.6B.zip \n",
    "### !unzip -q glove.6B.zip \n",
    "glove_file =  'glove.6B.100d.txt'\n",
    "\n",
    "num_tokens = len(word_index.items()) + 1\n",
    "embedding_dim = 100\n",
    "hits = 0\n",
    "misses = 0\n",
    "\n",
    "embeddings_index = {}\n",
    "with open(glove_file, encoding = \"utf-8\") as f:\n",
    "    for line in f:\n",
    "        word, coefs = line.split(maxsplit=1)\n",
    "        coefs = np.fromstring(coefs, \"f\", sep=\" \")\n",
    "        embeddings_index[word] = coefs\n",
    "\n",
    "embedding_matrix = np.zeros((num_tokens, embedding_dim))\n",
    "for word, i in word_index.items():\n",
    "    embedding_vector = embeddings_index.get(word)\n",
    "    if embedding_vector is not None:\n",
    "        embedding_matrix[i] = embedding_vector\n",
    "        hits += 1\n",
    "    else:\n",
    "        misses += 1\n",
    "print(\"Converted %d words (%d misses)\" % (hits, misses))\n",
    "\n",
    "embedding_layer = Embedding(len(word_index)+1,embedding_dim,\n",
    "                            embeddings_initializer = Constant(embedding_matrix),\n",
    "                            input_length = max_length,\n",
    "                            trainable = False)"
   ]
  },
  {
   "cell_type": "code",
   "execution_count": 96,
   "metadata": {
    "ExecuteTime": {
     "end_time": "2021-04-26T03:00:20.779353Z",
     "start_time": "2021-04-26T02:57:02.898283Z"
    }
   },
   "outputs": [
    {
     "name": "stdout",
     "output_type": "stream",
     "text": [
      "Epoch 1/5\n",
      "793/793 - 41s - loss: 0.0283 - accuracy: 0.3344 - f1_m: 0.2808 - val_loss: 0.0298 - val_accuracy: 0.2980 - val_f1_m: 0.1860\n",
      "Epoch 2/5\n",
      "793/793 - 38s - loss: 0.0283 - accuracy: 0.3349 - f1_m: 0.2829 - val_loss: 0.0298 - val_accuracy: 0.2972 - val_f1_m: 0.1983\n",
      "Epoch 3/5\n",
      "793/793 - 39s - loss: 0.0283 - accuracy: 0.3365 - f1_m: 0.2831 - val_loss: 0.0298 - val_accuracy: 0.2983 - val_f1_m: 0.1936\n",
      "Epoch 4/5\n",
      "793/793 - 39s - loss: 0.0283 - accuracy: 0.3358 - f1_m: 0.2843 - val_loss: 0.0298 - val_accuracy: 0.3001 - val_f1_m: 0.2001\n",
      "Epoch 5/5\n",
      "793/793 - 37s - loss: 0.0283 - accuracy: 0.3366 - f1_m: 0.2854 - val_loss: 0.0299 - val_accuracy: 0.2973 - val_f1_m: 0.1850\n"
     ]
    }
   ],
   "source": [
    "# Fit model\n",
    "num_epochs = 60\n",
    "history = TextCNN.fit(tr_embed, tr_y,\n",
    "                    batch_size = 128,\n",
    "                    epochs = num_epochs, verbose = 2, shuffle = False,\n",
    "                    validation_split = 0.3)"
   ]
  },
  {
   "cell_type": "markdown",
   "metadata": {},
   "source": [
    "# Utility function"
   ]
  },
  {
   "cell_type": "code",
   "execution_count": 19,
   "metadata": {
    "ExecuteTime": {
     "end_time": "2021-04-07T21:48:08.015490Z",
     "start_time": "2021-04-07T21:48:08.009898Z"
    }
   },
   "outputs": [],
   "source": [
    "# Plot model accuracy and loss\n",
    "\n",
    "def plot_history(history):\n",
    "    plt.figure(figsize = (20, 5))\n",
    "    \n",
    "    plt.subplot(1, 2, 1)\n",
    "    plt.plot(history.history['accuracy'], label = 'Training Accuracy', \\\n",
    "             c = 'blue', lw = '2')\n",
    "    plt.plot(history.history['val_accuracy'], label = 'Validation Accuracy', \\\n",
    "             c = 'red', lw = '2')\n",
    "    plt.title('Accuracy', loc = 'left', fontsize = 16)\n",
    "    plt.xlabel(\"Epochs\")\n",
    "    plt.ylabel(\"Accuracy\")\n",
    "    plt.legend()\n",
    "    \n",
    "    plt.subplot(1, 2, 2)\n",
    "    plt.plot(history.history['loss'], label = 'Training Loss', \\\n",
    "             c = 'blue', lw = '2')\n",
    "    plt.plot(history.history['val_loss'], label = 'Validation Loss', \\\n",
    "             c = 'red', lw = '2')\n",
    "    plt.title('Loss', loc = 'left', fontsize = 16)\n",
    "    plt.xlabel(\"Epochs\")\n",
    "    plt.ylabel(\"Loss\")\n",
    "    plt.legend()\n",
    "    \n",
    "    plt.show()"
   ]
  },
  {
   "cell_type": "code",
   "execution_count": 20,
   "metadata": {
    "ExecuteTime": {
     "end_time": "2021-04-07T21:48:08.019474Z",
     "start_time": "2021-04-07T21:48:08.016555Z"
    }
   },
   "outputs": [],
   "source": [
    "# Plot confusion matrix\n",
    "\n",
    "def plot_confusion_matrix(val_labels, pred_labels, ticklabels):\n",
    "    fig, ax = plt.subplots(figsize = (10, 8))\n",
    "    \n",
    "    cm = confusion_matrix(val_labels, pred_labels)\n",
    "    \n",
    "    sns.heatmap(cm, annot = False, cbar = True,\n",
    "                cmap = 'Blues', ax = ax)\n",
    "    ax.set_xlabel('Predicted News Class')\n",
    "    ax.set_ylabel('Actual News Class')\n",
    "    ax.set_xticklabels(ticklabels, rotation = 90)\n",
    "    ax.set_yticklabels(ticklabels, rotation = 0)\n",
    "    \n",
    "    plt.show()\n",
    "    "
   ]
  },
  {
   "cell_type": "markdown",
   "metadata": {},
   "source": [
    "# Evaluation"
   ]
  },
  {
   "cell_type": "code",
   "execution_count": 21,
   "metadata": {
    "ExecuteTime": {
     "end_time": "2021-04-07T21:48:08.249382Z",
     "start_time": "2021-04-07T21:48:08.020089Z"
    }
   },
   "outputs": [
    {
     "data": {
      "image/png": "[encoded data removed]",
      "text/plain": [
       "<Figure size 1440x360 with 2 Axes>"
      ]
     },
     "metadata": {
      "needs_background": "light"
     },
     "output_type": "display_data"
    }
   ],
   "source": [
    "# plot history\n",
    "\n",
    "plot_history(history)"
   ]
  },
  {
   "cell_type": "code",
   "execution_count": 22,
   "metadata": {
    "ExecuteTime": {
     "end_time": "2021-04-07T21:48:08.491809Z",
     "start_time": "2021-04-07T21:48:08.254698Z"
    }
   },
   "outputs": [
    {
     "data": {
      "image/png": "[encoded data removed]",
      "text/plain": [
       "<Figure size 720x576 with 2 Axes>"
      ]
     },
     "metadata": {
      "needs_background": "light"
     },
     "output_type": "display_data"
    }
   ],
   "source": [
    "# plot confusion matrix\n",
    "\n",
    "pred_vec = np.array([np.argmax(i) for i in pred])\n",
    "plot_confusion_matrix(val_y_true, pred_vec, ticklabels) "
   ]
  }
 ],
 "metadata": {
  "colab": {
   "collapsed_sections": [],
   "name": "CS7641.ipynb",
   "provenance": []
  },
  "hide_input": false,
  "kernelspec": {
   "display_name": "Python [conda env:tfpy38]",
   "language": "python",
   "name": "conda-env-tfpy38-py"
  },
  "language_info": {
   "codemirror_mode": {
    "name": "ipython",
    "version": 3
   },
   "file_extension": ".py",
   "mimetype": "text/x-python",
   "name": "python",
   "nbconvert_exporter": "python",
   "pygments_lexer": "ipython3",
   "version": "3.8.8"
  },
  "toc": {
   "base_numbering": 1,
   "nav_menu": {},
   "number_sections": true,
   "sideBar": true,
   "skip_h1_title": false,
   "title_cell": "Table of Contents",
   "title_sidebar": "Contents",
   "toc_cell": false,
   "toc_position": {},
   "toc_section_display": true,
   "toc_window_display": false
  },
  "varInspector": {
   "cols": {
    "lenName": 16,
    "lenType": 16,
    "lenVar": 40
   },
   "kernels_config": {
    "python": {
     "delete_cmd_postfix": "",
     "delete_cmd_prefix": "del ",
     "library": "var_list.py",
     "varRefreshCmd": "print(var_dic_list())"
    },
    "r": {
     "delete_cmd_postfix": ") ",
     "delete_cmd_prefix": "rm(",
     "library": "var_list.r",
     "varRefreshCmd": "cat(var_dic_list()) "
    }
   },
   "types_to_exclude": [
    "module",
    "function",
    "builtin_function_or_method",
    "instance",
    "_Feature"
   ],
   "window_display": false
  }
 },
 "nbformat": 4,
 "nbformat_minor": 1
}
